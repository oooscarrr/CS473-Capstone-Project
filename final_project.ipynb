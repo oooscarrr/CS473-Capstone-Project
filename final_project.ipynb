{
 "cells": [
  {
   "cell_type": "code",
   "execution_count": 1,
   "metadata": {},
   "outputs": [],
   "source": [
    "import os\n",
    "import torch\n",
    "import torch.nn as nn\n",
    "import torch.nn.functional as F\n",
    "from torch.utils.data import DataLoader, Dataset\n",
    "from torchvision import datasets\n",
    "from torchvision.transforms import ToTensor, Lambda, Compose, Normalize\n",
    "from torchvision.models import resnet18, ResNet18_Weights, resnet50, ResNet50_Weights\n",
    "import matplotlib.pyplot as plt\n",
    "import numpy as np\n",
    "import cv2\n",
    "import pickle as pkl"
   ]
  },
  {
   "cell_type": "code",
   "execution_count": 2,
   "metadata": {},
   "outputs": [],
   "source": [
    "device = \"mps\""
   ]
  },
  {
   "cell_type": "code",
   "execution_count": 3,
   "metadata": {},
   "outputs": [
    {
     "name": "stdout",
     "output_type": "stream",
     "text": [
      "Using mps device\n"
     ]
    }
   ],
   "source": [
    "print(\"Using {} device\".format(device))"
   ]
  },
  {
   "cell_type": "code",
   "execution_count": 4,
   "metadata": {},
   "outputs": [],
   "source": [
    "class LazyLoadDataset(Dataset):\n",
    "    def __init__(self, path, train=True, transform=None):\n",
    "        path = path + (\"train/\" if train else \"test/\")\n",
    "        self.pathX = path + \"X/\"\n",
    "        self.pathY = path + \"Y/\"\n",
    "        self.transform = transform\n",
    "        self.data = os.listdir(self.pathX)\n",
    "\n",
    "    def __len__(self):\n",
    "        return len(self.data)\n",
    "\n",
    "    def __getitem__(self, idx):\n",
    "        f = self.data[idx]\n",
    "        img0 = cv2.imread(self.pathX + f + \"/rgb/0.png\")\n",
    "        img0 = (img0 - img0.mean()) / img0.std()\n",
    "        img1 = cv2.imread(self.pathX + f + \"/rgb/1.png\")\n",
    "        img2 = cv2.imread(self.pathX + f + \"/rgb/2.png\")\n",
    "        depth = np.load(self.pathX + f + \"/depth.npy\")\n",
    "        if self.transform:\n",
    "            img0 = self.transform(img0)\n",
    "            img1 = self.transform(img1)\n",
    "            img2 = self.transform(img2)\n",
    "            depth = self.transform(depth)\n",
    "        \n",
    "        field_id = pkl.load(open(self.pathX + f + \"/field_id.pkl\", \"rb\"))\n",
    "        Y = np.load(self.pathY + f + \".npy\") * 1000\n",
    "        return (img0, img1, img2, depth, field_id), Y"
   ]
  },
  {
   "cell_type": "code",
   "execution_count": 5,
   "metadata": {},
   "outputs": [
    {
     "name": "stdout",
     "output_type": "stream",
     "text": [
      "torch.Size([3, 224, 224]) torch.Size([3, 224, 224]) torch.Size([3, 224, 224]) torch.Size([224, 3, 224])\n",
      "1573\n",
      "[ 48.69870377  51.46898896 121.19601668  53.79464732  -2.11509216\n",
      " 113.56295619  65.31686638 -50.45136042  92.90360989  54.93184777\n",
      " -22.91666547 -62.35145417]\n"
     ]
    }
   ],
   "source": [
    "dataset = LazyLoadDataset(\"./lazydata/\", train=True, transform=ToTensor())\n",
    "(img0, img1, img2, depth, field_id), Y = dataset[0]\n",
    "print(img0.shape, img1.shape, img2.shape, depth.shape)\n",
    "print(field_id)\n",
    "print(Y)"
   ]
  },
  {
   "cell_type": "code",
   "execution_count": 6,
   "metadata": {},
   "outputs": [],
   "source": [
    "train_dataset = LazyLoadDataset(\"./lazydata/\", train=True, transform=ToTensor())\n",
    "train_loader = DataLoader(train_dataset, batch_size=64, shuffle=True)"
   ]
  },
  {
   "cell_type": "code",
   "execution_count": 7,
   "metadata": {},
   "outputs": [
    {
     "name": "stdout",
     "output_type": "stream",
     "text": [
      "torch.Size([64, 3, 224, 224]) torch.Size([64, 3, 224, 224]) torch.Size([64, 3, 224, 224]) torch.Size([64, 224, 3, 224]) 64\n",
      "torch.Size([64, 12])\n",
      "<class 'torch.Tensor'> <class 'torch.Tensor'> <class 'torch.Tensor'> <class 'torch.Tensor'> <class 'tuple'>\n"
     ]
    }
   ],
   "source": [
    "for X, Y in train_loader:\n",
    "    print(X[0].shape, X[1].shape, X[2].shape, X[3].shape, len(X[4]))\n",
    "    print(Y.shape)\n",
    "    print(type(X[0]), type(X[1]), type(X[2]), type(X[3]), type(X[4]))\n",
    "    break"
   ]
  },
  {
   "cell_type": "code",
   "execution_count": 8,
   "metadata": {},
   "outputs": [],
   "source": [
    "# CNN model\n",
    "class CNN(nn.Module):\n",
    "    def __init__(self):\n",
    "        super().__init__()\n",
    "        self.conv1 = nn.Conv2d(3, 6, 5)\n",
    "        self.pool = nn.MaxPool2d(2, 2)\n",
    "        self.conv2 = nn.Conv2d(6, 16, 5)\n",
    "        self.fc1 = nn.Linear(16 * 53 * 53, 120)\n",
    "        self.fc2 = nn.Linear(120, 84)\n",
    "        self.fc3 = nn.Linear(84, 12)\n",
    "\n",
    "    def forward(self, x):\n",
    "        x = self.pool(F.relu(self.conv1(x)))\n",
    "        x = self.pool(F.relu(self.conv2(x)))\n",
    "        x = x.view(-1, 16 * 53 * 53)\n",
    "        x = F.relu(self.fc1(x))\n",
    "        x = F.relu(self.fc2(x))\n",
    "        x = self.fc3(x)\n",
    "        return x\n",
    "\n",
    "model = CNN().to(device)"
   ]
  },
  {
   "cell_type": "code",
   "execution_count": 20,
   "metadata": {},
   "outputs": [],
   "source": [
    "# fine-tune resnet18 model\n",
    "class ResNet18(nn.Module):\n",
    "    def __init__(self):\n",
    "        super().__init__()\n",
    "        self.model = resnet18(weights=ResNet18_Weights.DEFAULT)\n",
    "        self.model.fc = nn.Linear(512, 12)\n",
    "\n",
    "    def forward(self, x):\n",
    "        return self.model(x)\n",
    "        \n",
    "resnet18_model = ResNet18().to(device)"
   ]
  },
  {
   "cell_type": "code",
   "execution_count": 21,
   "metadata": {},
   "outputs": [],
   "source": [
    "# use RMSE as loss function\n",
    "def rmse_loss(pred, target):\n",
    "    return torch.sqrt(torch.mean((pred - target) ** 2))\n",
    "loss_fn = rmse_loss\n",
    "optimizer = torch.optim.SGD(resnet18_model.parameters(), lr=1e-3)"
   ]
  },
  {
   "cell_type": "code",
   "execution_count": 22,
   "metadata": {},
   "outputs": [],
   "source": [
    "def train(dataloader, model, loss_fn, optimizer, loss_record):\n",
    "    size = len(dataloader.dataset)\n",
    "    for batch, (X, y) in enumerate(dataloader):\n",
    "        X[0] = X[0].float().to(device)\n",
    "        # X[1] = X[1].to(device)\n",
    "        # X[2] = X[2].to(device)\n",
    "        y = y.float().to(device)\n",
    "\n",
    "        pred = model(X[0].float())\n",
    "        loss = loss_fn(pred, y)\n",
    "\n",
    "        optimizer.zero_grad()\n",
    "        loss.backward()\n",
    "        optimizer.step()\n",
    "\n",
    "        if batch % 100 == 0:\n",
    "            loss, current = loss.item(), batch * len(X[0])\n",
    "            loss_record.append(loss)\n",
    "            print(f\"loss: {loss:>7f}  [{current:>5d}/{size:>5d}]\")"
   ]
  },
  {
   "cell_type": "code",
   "execution_count": 24,
   "metadata": {},
   "outputs": [
    {
     "name": "stdout",
     "output_type": "stream",
     "text": [
      "Epoch 1\n",
      "-------------------------------\n",
      "loss: 62.272987  [    0/ 3396]\n",
      "Epoch 2\n",
      "-------------------------------\n",
      "loss: 61.435329  [    0/ 3396]\n",
      "Epoch 3\n",
      "-------------------------------\n",
      "loss: 59.056343  [    0/ 3396]\n",
      "Epoch 4\n",
      "-------------------------------\n",
      "loss: 56.978580  [    0/ 3396]\n",
      "Epoch 5\n",
      "-------------------------------\n",
      "loss: 55.172684  [    0/ 3396]\n",
      "Epoch 6\n",
      "-------------------------------\n",
      "loss: 53.193550  [    0/ 3396]\n",
      "Epoch 7\n",
      "-------------------------------\n",
      "loss: 51.356842  [    0/ 3396]\n",
      "Epoch 8\n",
      "-------------------------------\n",
      "loss: 48.852730  [    0/ 3396]\n",
      "Epoch 9\n",
      "-------------------------------\n",
      "loss: 47.278229  [    0/ 3396]\n",
      "Epoch 10\n",
      "-------------------------------\n",
      "loss: 44.862541  [    0/ 3396]\n",
      "Epoch 11\n",
      "-------------------------------\n",
      "loss: 43.504208  [    0/ 3396]\n",
      "Epoch 12\n",
      "-------------------------------\n",
      "loss: 40.926834  [    0/ 3396]\n",
      "Epoch 13\n",
      "-------------------------------\n",
      "loss: 38.530972  [    0/ 3396]\n",
      "Epoch 14\n",
      "-------------------------------\n",
      "loss: 35.908657  [    0/ 3396]\n",
      "Epoch 15\n",
      "-------------------------------\n",
      "loss: 34.282028  [    0/ 3396]\n",
      "Epoch 16\n",
      "-------------------------------\n",
      "loss: 32.745060  [    0/ 3396]\n",
      "Epoch 17\n",
      "-------------------------------\n",
      "loss: 31.289104  [    0/ 3396]\n",
      "Epoch 18\n",
      "-------------------------------\n",
      "loss: 29.436356  [    0/ 3396]\n",
      "Epoch 19\n",
      "-------------------------------\n",
      "loss: 27.945160  [    0/ 3396]\n",
      "Epoch 20\n",
      "-------------------------------\n",
      "loss: 25.994587  [    0/ 3396]\n",
      "Epoch 21\n",
      "-------------------------------\n",
      "loss: 24.948456  [    0/ 3396]\n",
      "Epoch 22\n",
      "-------------------------------\n",
      "loss: 24.867790  [    0/ 3396]\n",
      "Epoch 23\n",
      "-------------------------------\n",
      "loss: 23.618605  [    0/ 3396]\n",
      "Epoch 24\n",
      "-------------------------------\n",
      "loss: 23.414364  [    0/ 3396]\n",
      "Epoch 25\n",
      "-------------------------------\n",
      "loss: 25.464539  [    0/ 3396]\n",
      "Epoch 26\n",
      "-------------------------------\n",
      "loss: 23.026554  [    0/ 3396]\n",
      "Epoch 27\n",
      "-------------------------------\n",
      "loss: 23.074045  [    0/ 3396]\n",
      "Epoch 28\n",
      "-------------------------------\n",
      "loss: 20.760185  [    0/ 3396]\n",
      "Epoch 29\n",
      "-------------------------------\n",
      "loss: 21.454103  [    0/ 3396]\n",
      "Epoch 30\n",
      "-------------------------------\n",
      "loss: 19.562946  [    0/ 3396]\n",
      "Done!\n"
     ]
    }
   ],
   "source": [
    "epoch = 30\n",
    "loss_record = []\n",
    "for t in range(epoch):\n",
    "    print(f\"Epoch {t+1}\\n-------------------------------\")\n",
    "    train(train_loader, resnet18_model, loss_fn, optimizer, loss_record)\n",
    "print(\"Done!\")"
   ]
  },
  {
   "cell_type": "code",
   "execution_count": 25,
   "metadata": {},
   "outputs": [
    {
     "data": {
      "image/png": "[encoded data removed]",
      "text/plain": [
       "<Figure size 640x480 with 1 Axes>"
      ]
     },
     "metadata": {},
     "output_type": "display_data"
    }
   ],
   "source": [
    "plt.plot(loss_record)\n",
    "plt.xlabel(\"batch\")\n",
    "plt.ylabel(\"loss\")\n",
    "plt.title(\"loss curve\")\n",
    "plt.show()"
   ]
  },
  {
   "cell_type": "code",
   "execution_count": 38,
   "metadata": {},
   "outputs": [
    {
     "name": "stdout",
     "output_type": "stream",
     "text": [
      "torch.Size([849, 3, 224, 224])\n",
      "torch.Size([849, 1, 3, 3, 224, 224])\n"
     ]
    }
   ],
   "source": [
    "import pickle\n",
    "import pandas as pd\n",
    "\n",
    "outfile = 'submission_resnet.csv'\n",
    "\n",
    "output_file = open(outfile, 'w')\n",
    "\n",
    "titles = ['ID', 'FINGER_POS_1', 'FINGER_POS_2', 'FINGER_POS_3', 'FINGER_POS_4', 'FINGER_POS_5', 'FINGER_POS_6',\n",
    "         'FINGER_POS_7', 'FINGER_POS_8', 'FINGER_POS_9', 'FINGER_POS_10', 'FINGER_POS_11', 'FINGER_POS_12']\n",
    "preds = []\n",
    "\n",
    "test_data = torch.load('data/testX.pt')\n",
    "print(test_data[1].shape)\n",
    "file_ids = test_data[-1]\n",
    "rgb_data = test_data[0].to(device)\n",
    "\n",
    "rgb_data = rgb_data.unsqueeze(1)\n",
    "print(rgb_data.shape)"
   ]
  },
  {
   "cell_type": "code",
   "execution_count": 39,
   "metadata": {},
   "outputs": [
    {
     "name": "stdout",
     "output_type": "stream",
     "text": [
      "Written to csv file submission_resnet.csv\n"
     ]
    }
   ],
   "source": [
    "resnet18_model.eval()\n",
    "\n",
    "for i, data in enumerate(rgb_data):\n",
    "    # Please remember to modify this loop, input and output based on your model/architecture\n",
    "    # normalize data[0]\n",
    "    data[0] = (data[0] - data[0].mean()) / data[0].std()\n",
    "    output = resnet18_model(data[0]) / 1000\n",
    "    preds.append(output[0].cpu().detach().numpy())\n",
    "\n",
    "df = pd.concat([pd.DataFrame(file_ids), pd.DataFrame.from_records(preds)], axis = 1, names = titles)\n",
    "df.columns = titles\n",
    "df.to_csv(outfile, index = False)\n",
    "print(\"Written to csv file {}\".format(outfile))"
   ]
  }
 ],
 "metadata": {
  "kernelspec": {
   "display_name": "Python 3.10.8 64-bit",
   "language": "python",
   "name": "python3"
  },
  "language_info": {
   "codemirror_mode": {
    "name": "ipython",
    "version": 3
   },
   "file_extension": ".py",
   "mimetype": "text/x-python",
   "name": "python",
   "nbconvert_exporter": "python",
   "pygments_lexer": "ipython3",
   "version": "3.10.8"
  },
  "orig_nbformat": 4,
  "vscode": {
   "interpreter": {
    "hash": "aee8b7b246df8f9039afb4144a1f6fd8d2ca17a180786b69acc140d282b71a49"
   }
  }
 },
 "nbformat": 4,
 "nbformat_minor": 2
}
